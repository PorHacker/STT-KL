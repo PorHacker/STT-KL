{
 "cells": [
  {
   "cell_type": "code",
   "execution_count": 6,
   "metadata": {},
   "outputs": [],
   "source": [
    " import fnmatch"
   ]
  },
  {
   "cell_type": "code",
   "execution_count": 7,
   "metadata": {},
   "outputs": [],
   "source": [
    "# mkdir /data/07-Kolon-Processed-Data/20240419/output_vad_folder\n",
    "# mkdir /data/07-Kolon-Processed-Data/20240419/output_stt_ta_folder\n",
    "\n",
    "# !cp -r /data/06-Kolon-Labeling-Processing/Server-STT-TAs-Docker-Compose-Unicef/shared_folder/output_vad_folder/2024-04-19_18-01-18.044667_3bf76aa8-982d-49d0-a95a-9373e6b1909f /data/07-Kolon-Processed-Data/20240419/output_vad_folder\n",
    "# !cp -r /data/06-Kolon-Labeling-Processing/Server-STT-TAs-Docker-Compose-Unicef/shared_folder/output_stt_ta_folder/2024-04-19_18-01-18.044667_3bf76aa8-982d-49d0-a95a-9373e6b1909f /data/07-Kolon-Processed-Data/20240419/output_stt_ta_folder"
   ]
  },
  {
   "cell_type": "code",
   "execution_count": 8,
   "metadata": {},
   "outputs": [],
   "source": [
    "# vad, stt 결과 파일 복사 후 해당 경로로 변경\n",
    "VOICE_SPLIT_OUTPUT_DIR = \"/data12t/03_STT_FOR_SK/03_KIM/labeling-test/input-files/output_vad_folder/2025-05-09_10-48-00.343275_f03c9c1a-eb99-4dcc-a2fa-5ecc04775cd1\"\n",
    "STT_OUTPUT_DIR = \"/data12t/03_STT_FOR_SK/03_KIM/labeling-test/input-files/output_stt_ta_folder/2025-05-09_10-48-00.343275_f03c9c1a-eb99-4dcc-a2fa-5ecc04775cd1\"\n",
    "\n",
    "DIR_SOURCE_PATTERN = \"/workspace/shared_folder/\"   # Fixed value for STI system  # Docker & Server mapping \n",
    "DIR_REPLACE_PATTERN = \"/data12t/03_STT_FOR_SK/03_KIM/13-Kolon-Batch-Pipeline/Server-STT-Masking-QA-Pipeline-Kolon-JW/shared_folder/\"  # New DIR where the STI output store"
   ]
  },
  {
   "cell_type": "code",
   "execution_count": 9,
   "metadata": {},
   "outputs": [],
   "source": [
    "import os\n",
    "import json\n",
    "\n",
    "\n",
    "def replace_text_in_file(file_path, source_pattern, replace_pattern):\n",
    "    try:\n",
    "        with open(file_path, 'r', encoding='utf-8') as file:\n",
    "            file_content = file.read()\n",
    "        \n",
    "        # Replace all occurrences of source_pattern with replace_pattern\n",
    "        modified_content = file_content.replace(source_pattern, replace_pattern)\n",
    "        \n",
    "        with open(file_path, 'w', encoding='utf-8') as file:\n",
    "            file.write(modified_content)\n",
    "        \n",
    "        return True\n",
    "    except Exception as e:\n",
    "        print(\"Error:\", e)\n",
    "        return False\n",
    "\n",
    "\n"
   ]
  },
  {
   "cell_type": "code",
   "execution_count": 10,
   "metadata": {},
   "outputs": [],
   "source": [
    "### Replace _all.json output files\n",
    "for root, dirnames, filenames in os.walk(STT_OUTPUT_DIR):\n",
    "    for filename in fnmatch.filter(filenames, \"*_all.json\"):\n",
    "        all_stt_output_file_path = os.path.join(root, filename)\n",
    "        replace_text_in_file(all_stt_output_file_path, DIR_SOURCE_PATTERN, DIR_REPLACE_PATTERN)\n",
    "\n",
    "### Replace _stt.json output files\n",
    "for root, dirnames, filenames in os.walk(STT_OUTPUT_DIR):\n",
    "    for filename in fnmatch.filter(filenames, \"*_stt.json\"):\n",
    "        stt_output_file_path = os.path.join(root, filename)\n",
    "        replace_text_in_file(stt_output_file_path, DIR_SOURCE_PATTERN, DIR_REPLACE_PATTERN)\n",
    "\n",
    "\n",
    "### Replace in Split JSON output\n",
    "for root, dirnames, filenames in os.walk(VOICE_SPLIT_OUTPUT_DIR):\n",
    "    for filename in fnmatch.filter(filenames, \"*nfo.json\"):\n",
    "        split_output_file_path = os.path.join(root, filename)\n",
    "        replace_text_in_file(split_output_file_path, DIR_SOURCE_PATTERN, DIR_REPLACE_PATTERN)"
   ]
  },
  {
   "cell_type": "code",
   "execution_count": null,
   "metadata": {},
   "outputs": [],
   "source": []
  }
 ],
 "metadata": {
  "kernelspec": {
   "display_name": "ky_stt_nm",
   "language": "python",
   "name": "python3"
  },
  "language_info": {
   "codemirror_mode": {
    "name": "ipython",
    "version": 3
   },
   "file_extension": ".py",
   "mimetype": "text/x-python",
   "name": "python",
   "nbconvert_exporter": "python",
   "pygments_lexer": "ipython3",
   "version": "3.9.7"
  }
 },
 "nbformat": 4,
 "nbformat_minor": 2
}
