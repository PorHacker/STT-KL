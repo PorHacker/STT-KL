{
 "cells": [
  {
   "cell_type": "code",
   "execution_count": 1,
   "metadata": {},
   "outputs": [],
   "source": [
    "import os\n",
    "import fnmatch\n",
    "import json\n"
   ]
  },
  {
   "cell_type": "code",
   "execution_count": 4,
   "metadata": {},
   "outputs": [],
   "source": [
    "\n",
    "VOICE_SPLIT_OUTPUT_DIR = \"/nas2/voice/data/kynd/AItheDaisy/08-1-MetaM_Labeling_Prepare/data/splited_speaker_data_metam/split_mono_left/mono\"\n",
    "\n",
    "\n",
    "# Convert datetime format\n",
    "def get_duration_from_id(current_call_id):\n",
    "    try:\n",
    "        infojson_path = os.path.join(VOICE_SPLIT_OUTPUT_DIR, current_call_id, \"info.json\")\n",
    "        with open(infojson_path, \"r\", encoding=\"utf-8\") as f:\n",
    "            split_info_data = json.load(f)\n",
    "            return int(split_info_data['length'])\n",
    "    except:\n",
    "        return 0\n",
    "    "
   ]
  },
  {
   "cell_type": "code",
   "execution_count": 7,
   "metadata": {},
   "outputs": [],
   "source": [
    "tt_infos = []\n",
    "\n",
    "count = 0\n",
    "STT_OUTPUT_DIR = \"/nas2/voice/data/kynd/AItheDaisy/10-OP-labeling-tool-may/labeling_tools/label_output_dir\"\n",
    "for root, dirnames, filenames in os.walk(STT_OUTPUT_DIR):\n",
    "    for filename in fnmatch.filter(filenames, \"*mono_label.json\"):\n",
    "        file_path = os.path.join(root, filename)\n",
    "        file_name = os.path.basename(file_path).replace(\"_label.json\", \"\")\n",
    "        duration = get_duration_from_id(file_name)\n",
    "        count += duration"
   ]
  },
  {
   "cell_type": "code",
   "execution_count": 8,
   "metadata": {},
   "outputs": [
    {
     "data": {
      "text/plain": [
       "62.58611111111111"
      ]
     },
     "execution_count": 8,
     "metadata": {},
     "output_type": "execute_result"
    }
   ],
   "source": [
    "count / 60 / 60"
   ]
  },
  {
   "cell_type": "code",
   "execution_count": null,
   "metadata": {},
   "outputs": [],
   "source": []
  },
  {
   "cell_type": "code",
   "execution_count": null,
   "metadata": {},
   "outputs": [],
   "source": []
  },
  {
   "cell_type": "code",
   "execution_count": null,
   "metadata": {},
   "outputs": [],
   "source": []
  }
 ],
 "metadata": {
  "kernelspec": {
   "display_name": "nemo_stt_114",
   "language": "python",
   "name": "python3"
  },
  "language_info": {
   "codemirror_mode": {
    "name": "ipython",
    "version": 3
   },
   "file_extension": ".py",
   "mimetype": "text/x-python",
   "name": "python",
   "nbconvert_exporter": "python",
   "pygments_lexer": "ipython3",
   "version": "3.9.0"
  },
  "orig_nbformat": 4
 },
 "nbformat": 4,
 "nbformat_minor": 2
}
